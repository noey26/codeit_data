{
 "cells": [
  {
   "cell_type": "code",
   "execution_count": 1,
   "id": "34666455",
   "metadata": {},
   "outputs": [],
   "source": [
    "import numpy as np"
   ]
  },
  {
   "cell_type": "code",
   "execution_count": 2,
   "id": "3c43a14d",
   "metadata": {},
   "outputs": [],
   "source": [
    "array1 = np.array([2, 3, 5, 7, 11, 13, 17, 19, 23, 29, 32])"
   ]
  },
  {
   "cell_type": "code",
   "execution_count": 3,
   "id": "360bbd3c",
   "metadata": {},
   "outputs": [
    {
     "data": {
      "text/plain": [
       "2"
      ]
     },
     "execution_count": 3,
     "metadata": {},
     "output_type": "execute_result"
    }
   ],
   "source": [
    "array1[0]"
   ]
  },
  {
   "cell_type": "code",
   "execution_count": 4,
   "id": "d40f681d",
   "metadata": {},
   "outputs": [
    {
     "data": {
      "text/plain": [
       "array([ 3,  7, 11])"
      ]
     },
     "execution_count": 4,
     "metadata": {},
     "output_type": "execute_result"
    }
   ],
   "source": [
    "array1[[1, 3, 4]]"
   ]
  },
  {
   "cell_type": "code",
   "execution_count": 5,
   "id": "40155185",
   "metadata": {},
   "outputs": [],
   "source": [
    "array2 = np. array([2, 1, 3])"
   ]
  },
  {
   "cell_type": "code",
   "execution_count": 6,
   "id": "f35154ac",
   "metadata": {},
   "outputs": [
    {
     "data": {
      "text/plain": [
       "array([5, 3, 7])"
      ]
     },
     "execution_count": 6,
     "metadata": {},
     "output_type": "execute_result"
    }
   ],
   "source": [
    "array1[array2]"
   ]
  },
  {
   "cell_type": "code",
   "execution_count": 8,
   "id": "9a32a9f1",
   "metadata": {},
   "outputs": [
    {
     "data": {
      "text/plain": [
       "array([ 5,  7, 11, 13, 17])"
      ]
     },
     "execution_count": 8,
     "metadata": {},
     "output_type": "execute_result"
    }
   ],
   "source": [
    "array1[2:7]"
   ]
  },
  {
   "cell_type": "code",
   "execution_count": 9,
   "id": "672ebcec",
   "metadata": {},
   "outputs": [
    {
     "data": {
      "text/plain": [
       "array([ 5, 11, 17, 23, 32])"
      ]
     },
     "execution_count": 9,
     "metadata": {},
     "output_type": "execute_result"
    }
   ],
   "source": [
    "array1[2: 11: 2]"
   ]
  },
  {
   "cell_type": "code",
   "execution_count": null,
   "id": "572c51cc",
   "metadata": {},
   "outputs": [],
   "source": []
  }
 ],
 "metadata": {
  "kernelspec": {
   "display_name": "Python 3",
   "language": "python",
   "name": "python3"
  },
  "language_info": {
   "codemirror_mode": {
    "name": "ipython",
    "version": 3
   },
   "file_extension": ".py",
   "mimetype": "text/x-python",
   "name": "python",
   "nbconvert_exporter": "python",
   "pygments_lexer": "ipython3",
   "version": "3.8.8"
  }
 },
 "nbformat": 4,
 "nbformat_minor": 5
}
