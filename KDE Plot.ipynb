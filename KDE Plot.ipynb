{
 "cells": [
  {
   "cell_type": "code",
   "execution_count": 1,
   "id": "0060c7b3",
   "metadata": {},
   "outputs": [
    {
     "name": "stdout",
     "output_type": "stream",
     "text": [
      "Collecting seaborn==0.9.0\n",
      "  Downloading seaborn-0.9.0-py3-none-any.whl (208 kB)\n",
      "Collecting scipy>=0.14.0\n",
      "  Downloading scipy-1.7.0-cp39-cp39-win_amd64.whl (33.8 MB)\n",
      "Requirement already satisfied: pandas>=0.15.2 in c:\\users\\lsy96\\appdata\\local\\programs\\python\\python39\\lib\\site-packages (from seaborn==0.9.0) (1.3.0)\n",
      "Requirement already satisfied: numpy>=1.9.3 in c:\\users\\lsy96\\appdata\\local\\programs\\python\\python39\\lib\\site-packages (from seaborn==0.9.0) (1.21.0)\n",
      "Requirement already satisfied: matplotlib>=1.4.3 in c:\\users\\lsy96\\appdata\\local\\programs\\python\\python39\\lib\\site-packages (from seaborn==0.9.0) (3.4.2)\n",
      "Requirement already satisfied: cycler>=0.10 in c:\\users\\lsy96\\appdata\\local\\programs\\python\\python39\\lib\\site-packages (from matplotlib>=1.4.3->seaborn==0.9.0) (0.10.0)\n",
      "Requirement already satisfied: kiwisolver>=1.0.1 in c:\\users\\lsy96\\appdata\\local\\programs\\python\\python39\\lib\\site-packages (from matplotlib>=1.4.3->seaborn==0.9.0) (1.3.1)\n",
      "Requirement already satisfied: pillow>=6.2.0 in c:\\users\\lsy96\\appdata\\local\\programs\\python\\python39\\lib\\site-packages (from matplotlib>=1.4.3->seaborn==0.9.0) (8.3.1)\n",
      "Requirement already satisfied: python-dateutil>=2.7 in c:\\users\\lsy96\\appdata\\local\\programs\\python\\python39\\lib\\site-packages (from matplotlib>=1.4.3->seaborn==0.9.0) (2.8.1)\n",
      "Requirement already satisfied: pyparsing>=2.2.1 in c:\\users\\lsy96\\appdata\\local\\programs\\python\\python39\\lib\\site-packages (from matplotlib>=1.4.3->seaborn==0.9.0) (2.4.7)\n",
      "Requirement already satisfied: six in c:\\users\\lsy96\\appdata\\local\\programs\\python\\python39\\lib\\site-packages (from cycler>=0.10->matplotlib>=1.4.3->seaborn==0.9.0) (1.16.0)\n",
      "Requirement already satisfied: pytz>=2017.3 in c:\\users\\lsy96\\appdata\\local\\programs\\python\\python39\\lib\\site-packages (from pandas>=0.15.2->seaborn==0.9.0) (2021.1)\n",
      "Installing collected packages: scipy, seaborn\n",
      "Successfully installed scipy-1.7.0 seaborn-0.9.0\n"
     ]
    }
   ],
   "source": [
    "!pip install seaborn==0.9.0"
   ]
  },
  {
   "cell_type": "code",
   "execution_count": 2,
   "id": "3f23b020",
   "metadata": {},
   "outputs": [],
   "source": [
    "import pandas as pd\n",
    "import seaborn as sns"
   ]
  },
  {
   "cell_type": "code",
   "execution_count": 3,
   "id": "f1b261b1",
   "metadata": {},
   "outputs": [
    {
     "data": {
      "text/html": [
       "<div>\n",
       "<style scoped>\n",
       "    .dataframe tbody tr th:only-of-type {\n",
       "        vertical-align: middle;\n",
       "    }\n",
       "\n",
       "    .dataframe tbody tr th {\n",
       "        vertical-align: top;\n",
       "    }\n",
       "\n",
       "    .dataframe thead th {\n",
       "        text-align: right;\n",
       "    }\n",
       "</style>\n",
       "<table border=\"1\" class=\"dataframe\">\n",
       "  <thead>\n",
       "    <tr style=\"text-align: right;\">\n",
       "      <th></th>\n",
       "      <th>Height</th>\n",
       "      <th>Weight</th>\n",
       "    </tr>\n",
       "    <tr>\n",
       "      <th>Number</th>\n",
       "      <th></th>\n",
       "      <th></th>\n",
       "    </tr>\n",
       "  </thead>\n",
       "  <tbody>\n",
       "    <tr>\n",
       "      <th>1</th>\n",
       "      <td>176.0</td>\n",
       "      <td>85.2</td>\n",
       "    </tr>\n",
       "    <tr>\n",
       "      <th>2</th>\n",
       "      <td>175.3</td>\n",
       "      <td>67.7</td>\n",
       "    </tr>\n",
       "    <tr>\n",
       "      <th>3</th>\n",
       "      <td>168.6</td>\n",
       "      <td>75.2</td>\n",
       "    </tr>\n",
       "    <tr>\n",
       "      <th>4</th>\n",
       "      <td>168.1</td>\n",
       "      <td>67.1</td>\n",
       "    </tr>\n",
       "    <tr>\n",
       "      <th>5</th>\n",
       "      <td>175.3</td>\n",
       "      <td>63.0</td>\n",
       "    </tr>\n",
       "  </tbody>\n",
       "</table>\n",
       "</div>"
      ],
      "text/plain": [
       "        Height  Weight\n",
       "Number                \n",
       "1        176.0    85.2\n",
       "2        175.3    67.7\n",
       "3        168.6    75.2\n",
       "4        168.1    67.1\n",
       "5        175.3    63.0"
      ]
     },
     "execution_count": 3,
     "metadata": {},
     "output_type": "execute_result"
    }
   ],
   "source": [
    "body_df = pd.read_csv('codeit/body.csv', index_col=0)\n",
    "body_df.head()"
   ]
  },
  {
   "cell_type": "code",
   "execution_count": 4,
   "id": "055834f3",
   "metadata": {},
   "outputs": [
    {
     "data": {
      "text/plain": [
       "Number\n",
       "1       176.0\n",
       "2       175.3\n",
       "3       168.6\n",
       "4       168.1\n",
       "5       175.3\n",
       "        ...  \n",
       "996     171.8\n",
       "997     171.5\n",
       "998     177.9\n",
       "999     174.4\n",
       "1000    173.5\n",
       "Name: Height, Length: 1000, dtype: float64"
      ]
     },
     "execution_count": 4,
     "metadata": {},
     "output_type": "execute_result"
    }
   ],
   "source": [
    "body_df['Height']"
   ]
  },
  {
   "cell_type": "code",
   "execution_count": 7,
   "id": "d20646bf",
   "metadata": {},
   "outputs": [
    {
     "data": {
      "text/plain": [
       "<AxesSubplot:>"
      ]
     },
     "execution_count": 7,
     "metadata": {},
     "output_type": "execute_result"
    },
    {
     "data": {
      "image/png": "[encoded data removed]",
      "text/plain": [
       "<Figure size 432x288 with 1 Axes>"
      ]
     },
     "metadata": {
      "needs_background": "light"
     },
     "output_type": "display_data"
    }
   ],
   "source": [
    "body_df['Height'].value_counts().sort_index().plot()"
   ]
  },
  {
   "cell_type": "code",
   "execution_count": 10,
   "id": "06dbc9e0",
   "metadata": {},
   "outputs": [
    {
     "data": {
      "text/plain": [
       "<AxesSubplot:>"
      ]
     },
     "execution_count": 10,
     "metadata": {},
     "output_type": "execute_result"
    },
    {
     "data": {
      "image/png": "[encoded data removed]",
      "text/plain": [
       "<Figure size 432x288 with 1 Axes>"
      ]
     },
     "metadata": {
      "needs_background": "light"
     },
     "output_type": "display_data"
    }
   ],
   "source": [
    "sns.kdeplot(body_df['Height'], bw=0.5)"
   ]
  }
 ],
 "metadata": {
  "kernelspec": {
   "display_name": "Python 3 (ipykernel)",
   "language": "python",
   "name": "python3"
  },
  "language_info": {
   "codemirror_mode": {
    "name": "ipython",
    "version": 3
   },
   "file_extension": ".py",
   "mimetype": "text/x-python",
   "name": "python",
   "nbconvert_exporter": "python",
   "pygments_lexer": "ipython3",
   "version": "3.9.6"
  }
 },
 "nbformat": 4,
 "nbformat_minor": 5
}
