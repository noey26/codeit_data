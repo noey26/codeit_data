{
 "cells": [
  {
   "cell_type": "code",
   "execution_count": 1,
   "id": "250abc8d",
   "metadata": {},
   "outputs": [],
   "source": [
    "import pandas as pd"
   ]
  },
  {
   "cell_type": "code",
   "execution_count": 2,
   "id": "ff025d80",
   "metadata": {},
   "outputs": [],
   "source": [
    "laptops_df = pd.read_csv('codeit/laptops.csv')"
   ]
  },
  {
   "cell_type": "code",
   "execution_count": 3,
   "id": "8de26fee",
   "metadata": {},
   "outputs": [
    {
     "data": {
      "text/plain": [
       "0       Dell\n",
       "1      Apple\n",
       "2      Apple\n",
       "3      Apple\n",
       "4      Apple\n",
       "       ...  \n",
       "162     Asus\n",
       "163     Asus\n",
       "164     Asus\n",
       "165     Asus\n",
       "166     Asus\n",
       "Name: brand, Length: 167, dtype: object"
      ]
     },
     "execution_count": 3,
     "metadata": {},
     "output_type": "execute_result"
    }
   ],
   "source": [
    "laptops_df['brand']"
   ]
  },
  {
   "cell_type": "code",
   "execution_count": 4,
   "id": "ca27af9c",
   "metadata": {},
   "outputs": [
    {
     "data": {
      "text/plain": [
       "array(['Dell', 'Apple', 'Acer', 'HP', 'Lenovo', 'Alienware', 'Microsoft',\n",
       "       'Asus'], dtype=object)"
      ]
     },
     "execution_count": 4,
     "metadata": {},
     "output_type": "execute_result"
    }
   ],
   "source": [
    "laptops_df['brand'].unique()"
   ]
  },
  {
   "cell_type": "code",
   "execution_count": 5,
   "id": "49be5f21",
   "metadata": {},
   "outputs": [
    {
     "data": {
      "text/plain": [
       "HP           55\n",
       "Acer         35\n",
       "Dell         31\n",
       "Lenovo       18\n",
       "Asus          9\n",
       "Apple         7\n",
       "Alienware     6\n",
       "Microsoft     6\n",
       "Name: brand, dtype: int64"
      ]
     },
     "execution_count": 5,
     "metadata": {},
     "output_type": "execute_result"
    }
   ],
   "source": [
    "laptops_df['brand'].value_counts()"
   ]
  },
  {
   "cell_type": "code",
   "execution_count": 6,
   "id": "def3d39e",
   "metadata": {},
   "outputs": [
    {
     "data": {
      "text/plain": [
       "count     167\n",
       "unique      8\n",
       "top        HP\n",
       "freq       55\n",
       "Name: brand, dtype: object"
      ]
     },
     "execution_count": 6,
     "metadata": {},
     "output_type": "execute_result"
    }
   ],
   "source": [
    "laptops_df['brand'].describe()"
   ]
  }
 ],
 "metadata": {
  "kernelspec": {
   "display_name": "Python 3 (ipykernel)",
   "language": "python",
   "name": "python3"
  },
  "language_info": {
   "codemirror_mode": {
    "name": "ipython",
    "version": 3
   },
   "file_extension": ".py",
   "mimetype": "text/x-python",
   "name": "python",
   "nbconvert_exporter": "python",
   "pygments_lexer": "ipython3",
   "version": "3.9.6"
  }
 },
 "nbformat": 4,
 "nbformat_minor": 5
}
